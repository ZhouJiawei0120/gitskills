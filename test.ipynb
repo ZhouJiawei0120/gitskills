{
 "cells": [
  {
   "cell_type": "code",
   "execution_count": 74,
   "id": "eba4ece4",
   "metadata": {},
   "outputs": [
    {
     "data": {
      "text/plain": [
       "<module 'solver.bid_simulation_data' from '/root/workspace/ad-strategy/bidding/solver/bid_simulation_data.py'>"
      ]
     },
     "execution_count": 74,
     "metadata": {},
     "output_type": "execute_result"
    }
   ],
   "source": [
    "# 加载配置\n",
    "from importlib import reload\n",
    "import solver.bid_simulation_data #  import DataGenerator\n",
    "import simulator.bid_simulate #  import DataGenerator\n",
    "import config # 配置文件\n",
    " \n",
    "reload(config)\n",
    "reload(simulator.bid_simulate)\n",
    "reload(solver.bid_simulation_data)"
   ]
  },
  {
   "cell_type": "code",
   "execution_count": 75,
   "id": "8b27bbd0",
   "metadata": {},
   "outputs": [],
   "source": [
    "# 生成计划仿真数据\n",
    "scene = \"mainSearch\"\n",
    "date = 20250902\n",
    "# 依赖各类数据存放在本地数据库中，通过db.py加载\n",
    "db_file = \"./example.db\"\n",
    "dg = solver.bid_simulation_data.DataDBGenerator(\n",
    "    db_file,\n",
    "    scene,\n",
    "    date\n",
    ")\n",
    "# 准备数据\n",
    "dg.prepare()"
   ]
  },
  {
   "cell_type": "code",
   "execution_count": null,
   "id": "cafd08e8",
   "metadata": {},
   "outputs": [],
   "source": [
    "# 直接通过内存加载数据（可能会内存超限）\n",
    "\"\"\"\n",
    "history_data_file = \"./data/20250830_20250902\"\n",
    "charge_data_file = \"./data/20250830_20250901_charge_budget.csv\"\n",
    "simulation_data_file = \"./data/20250902_request_data.csv\"\n",
    "dg = solver.bid_simulation_data.DataGenerator(\n",
    "    history_data_file, \n",
    "    charge_data_file, \n",
    "    simulation_data_file, \n",
    "    scene,\n",
    "    date\n",
    ")\n",
    "\"\"\""
   ]
  },
  {
   "cell_type": "code",
   "execution_count": 76,
   "id": "498d6ffb",
   "metadata": {},
   "outputs": [],
   "source": [
    "# 生成计划仿真数据\n",
    "plan_id = 102082259\n",
    "plan_data = dg.generate(plan_id)"
   ]
  },
  {
   "cell_type": "code",
   "execution_count": null,
   "id": "aafe0729",
   "metadata": {},
   "outputs": [],
   "source": [
    "# 仿真任务初始化\n",
    "job = simulator.bid_simulate.BidSimulator(config, dg.flow_ratio)"
   ]
  },
  {
   "cell_type": "code",
   "execution_count": 77,
   "id": "e71bc634",
   "metadata": {},
   "outputs": [
    {
     "name": "stdout",
     "output_type": "stream",
     "text": [
      "{'final_param': 339436.58704713924, 'param': 1.0, 'rtcpa': 1.0, 'alpha': 1.0, 'stage': 0}\n",
      "{'final_param': 118802.80546649873, 'param': 0.35, 'rtcpa': 0.5, 'alpha': 0.7, 'stage': 1}\n",
      "{'final_param': 118802.80546649873, 'param': 0.35, 'rtcpa': 0.5, 'alpha': 0.7, 'stage': 1}\n"
     ]
    }
   ],
   "source": [
    "# 运行计划仿真任务\n",
    "budget = plan_data.budget * dg.simulation_ratio * plan_data.scene_ratio\n",
    "if \"time\" not in plan_data.simulation_data.columns:\n",
    "    plan_data.simulation_data[\"time\"] = plan_data.simulation_data[\"atime\"]\n",
    "# 仿真的结果\n",
    "base_result, new_result = job.simulate(plan_data)"
   ]
  },
  {
   "cell_type": "code",
   "execution_count": 78,
   "id": "75e14e0b",
   "metadata": {},
   "outputs": [
    {
     "data": {
      "text/plain": [
       "{'bid': 1743.5107273571812,\n",
       " 'price': 1236.8874256658755,\n",
       " 'gmv': 0.009229572799255193,\n",
       " 'click': 0.5270927950031956,\n",
       " 'cv': 0.0034960503027481795,\n",
       " 'pv': 17.149219073357028,\n",
       " 'ratio': 1.0718261920848142}"
      ]
     },
     "execution_count": 78,
     "metadata": {},
     "output_type": "execute_result"
    }
   ],
   "source": [
    "# 评估仿真的结果\n",
    "job.summary(base_result, budget)"
   ]
  },
  {
   "cell_type": "code",
   "execution_count": 79,
   "id": "05c31742",
   "metadata": {},
   "outputs": [
    {
     "data": {
      "text/plain": [
       "{'bid': 1606.4432588231205,\n",
       " 'price': 1236.887425665876,\n",
       " 'gmv': 0.013371700464142855,\n",
       " 'click': 1.4430570423828746,\n",
       " 'cv': 0.005065038054599565,\n",
       " 'pv': 46.99382953571374,\n",
       " 'ratio': 2.3496914767856873}"
      ]
     },
     "execution_count": 79,
     "metadata": {},
     "output_type": "execute_result"
    }
   ],
   "source": [
    "job.summary(new_result, budget)"
   ]
  }
 ],
 "metadata": {
  "kernelspec": {
   "display_name": "Python 3",
   "language": "python",
   "name": "python3"
  },
  "language_info": {
   "codemirror_mode": {
    "name": "ipython",
    "version": 3
   },
   "file_extension": ".py",
   "mimetype": "text/x-python",
   "name": "python",
   "nbconvert_exporter": "python",
   "pygments_lexer": "ipython3",
   "version": "3.6.9"
  }
 },
 "nbformat": 4,
 "nbformat_minor": 5
}
